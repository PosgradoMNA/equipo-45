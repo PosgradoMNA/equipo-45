{
  "nbformat": 4,
  "nbformat_minor": 0,
  "metadata": {
    "colab": {
      "provenance": [],
      "collapsed_sections": []
    },
    "kernelspec": {
      "name": "python3",
      "display_name": "Python 3"
    },
    "language_info": {
      "name": "python"
    }
  },
  "cells": [
    {
      "cell_type": "markdown",
      "source": [
        "#Tecnológico de Monterrey\n",
        "###Maestría en Inteligencia Artificial Aplicada\n",
        "######Ciencia y analítica de datos\n",
        "######Jobish Vallikavungal Devassia\n",
        "\n",
        "\n",
        "# Equipo 45\n",
        "###### Nancy Elena Estanislao Lizárraga - A01169334\n",
        "###### Gustavo Rene Ramos Ojeda - A01793599\n",
        "\n"
      ],
      "metadata": {
        "id": "j0jS3ZOyu96Q"
      }
    },
    {
      "cell_type": "markdown",
      "source": [
        "\n",
        "# **Proyecto final - Avance 1**\n",
        "<br>\n",
        "\n",
        "\n",
        "# Nombre que caracteriza el conjunto de datos\n",
        "####ENIF - Estadístico de la encuesta nacional de inclusion financiera 2021.\n",
        "<br>\n",
        "\n",
        "# La organización que lo generó.\n",
        "####INEGI\n",
        "####El objetivo de esta encuesta es generar información estadística e indicadores oficiales a nivel nacional, regional y por tamaño de localidad que les permita a las autoridades financieras hacer diagnósticos, diseñar políticas públicas y establecer metas en materia de inclusión y educación financiera.\n",
        "<br>\n",
        "\n",
        "# Enlace de Internet para descarga de base de datos\n",
        "####https://en.www.inegi.org.mx/contenidos/programas/enif/2021/datosabiertos/conjunto_de_datos_enif_2021_csv.zip\n",
        "\n",
        "<br>\n",
        "\n",
        "# Describe el conjunto de datos. ¿Qué datos contiene?\n",
        "### El conjunto de datos tiene información estadística que indica la capacidad de la población de acceder a un servicio financiero, dividiendo sus principales categorías en los siguientes rubros:\n",
        "* Información de los residentes del hogar\n",
        "* Características de la vivienda\n",
        "* Acceso a servicio de internet\n",
        "* Acceso a servicios telefónicos y de datos móviles\n",
        "* Acceso a dispositivos móviles o equipos de cómputo\n",
        "* Disponibilidad de servicios de atención automática (cajeros)\n",
        "* Cantidad de usuarios del sistema bancario mexicano\n",
        "\n",
        "<br>\n",
        "\n",
        "# ¿Cuáles son algunas de las preguntas de investigación que podría responder con estos datos? Enumere al menos OCHO (no responda las preguntas).\n",
        "1.   ¿Cuál es la región del país con menor índice de bancarización?\n",
        "2.   ¿Cuales son los servicios bancarios a los que tiene acceso la región X del país?\n",
        "3.   ¿Qué porcentaje de los usuarios de la región X tienen acceso a servicios de datos?\n",
        "4.   ¿Cuál es la relación de dispositivos móviles con respecto a la población económicamente activa de la región X?\n",
        "5.   ¿Cuáles son los segmentos de edad de la población económicamente activa de la región X?\n",
        "6.   ¿Qué tipo de dispositivos para consumo de servicios bancarios están disponibles en la región X?\n",
        "7.   ¿Cuántas personas ya cuentan con servicios bancarios en la región X?\n",
        "8.   ¿Cuál es el índice de disponibilidad de servicios de atención automática con respecto a la población bancarizada en la región X?\n",
        "\n",
        "\n",
        "\n",
        "# ¿Qué actor (empresa, sector de la sociedad, organismo descentralizado, gobierno, etc.) estaría interesado en las preguntas mencionadas que identificó?\n",
        "* Instituciones de banca múltiple \n",
        "* Servicios Fintech en México\n",
        "* Banco de México - Organo regulador del sistema bancario mexicano\n",
        "* Condusef - Organo vigilante de los servicios del sistema bancario mexicano\n",
        "* CNBV - Organo regulador del sistema bancario mexicano\n",
        "* Entidades de banca de desarrollo\n",
        "* Gobiernos locales\n",
        "\n",
        "\n",
        "\n",
        "\n"
      ],
      "metadata": {
        "id": "lpu-Qyxndngj"
      }
    }
  ]
}
